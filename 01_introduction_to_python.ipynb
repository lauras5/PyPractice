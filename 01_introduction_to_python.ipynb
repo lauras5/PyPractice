{
 "cells": [
  {
   "cell_type": "markdown",
   "id": "d94e6869-75ca-496e-807f-4ab2aa48a81f",
   "metadata": {},
   "source": [
    "# Introduction to Python\n",
    "\n",
    "## Introduction\n",
    "Welcome to the Python Beginner Tutorial Series! This first tutorial provides an overview of Python and introduces you to the basics of the language.\n",
    "\n",
    "## Basics of Python\n",
    "\n",
    "### Variables and Data Types\n",
    "In Python, you can use variables to store and manage data. Let's look at some basic data types:\n",
    "\n",
    "- **Integers (`int`):** Whole numbers.\n",
    "- **Floats (`float`):** Decimal numbers.\n",
    "- **Strings (`str`):** Textual data.\n",
    "\n",
    "### Basic Arithmetic Operations\n",
    "\n",
    "Python supports standard arithmetic operations:\n",
    "\n",
    "- Addition (`+`)\n",
    "- Subtraction (`-`)\n",
    "- Multiplication (`*`)\n",
    "- Division (`/`)\n",
    "- Modulus (`%`)\n",
    "- Exponentiation (`**`)\n",
    "\n",
    "### Printing and User Input\n",
    "\n",
    "You can print output using the `print()` function. User input is obtained using `input()`.\n",
    "\n",
    "Let's see some examples:"
   ]
  },
  {
   "cell_type": "markdown",
   "id": "7d617980-74f0-4693-8e3b-a9bbda9e4d12",
   "metadata": {},
   "source": [
    "The following example initiates the variables `age`, `height`, and `name`."
   ]
  },
  {
   "cell_type": "code",
   "execution_count": 2,
   "id": "d4cc222e-1777-4cd7-8572-963464605a99",
   "metadata": {},
   "outputs": [],
   "source": [
    "# Example 1: Variables and Data Types\n",
    "age = 25              # integer\n",
    "height = 5.8          # float\n",
    "name = \"John Doe\"     # string"
   ]
  },
  {
   "cell_type": "markdown",
   "id": "5d4168f7-deff-4f94-8c8f-6177fdf86890",
   "metadata": {},
   "source": [
    "The following example adds 2 integers together, stores the result in the `result` variable \n",
    "and prints the result using the print() function."
   ]
  },
  {
   "cell_type": "code",
   "execution_count": 3,
   "id": "b09b05e7-1656-4695-a96f-8be21d5c10c2",
   "metadata": {},
   "outputs": [
    {
     "name": "stdout",
     "output_type": "stream",
     "text": [
      "Result: 15\n"
     ]
    }
   ],
   "source": [
    "# Example 2: Basic Arithmetic Operations\n",
    "result = 10 + 5\n",
    "print(\"Result:\", result)"
   ]
  },
  {
   "cell_type": "markdown",
   "id": "850ff028-b2b2-4713-ad71-d4ad88942343",
   "metadata": {},
   "source": [
    "In this example, the program prompts the user to input their name using the input() function, stores the input in the variable user_name, and then prints a greeting message using the entered name with the print() function."
   ]
  },
  {
   "cell_type": "code",
   "execution_count": 4,
   "id": "2403d063-3c8d-479b-b5fd-92f3bf2f1f4f",
   "metadata": {},
   "outputs": [
    {
     "name": "stdin",
     "output_type": "stream",
     "text": [
      "Enter your name:  Laura\n"
     ]
    },
    {
     "name": "stdout",
     "output_type": "stream",
     "text": [
      "Hello, Laura!\n"
     ]
    }
   ],
   "source": [
    "# Example 3: Printing and User Input\n",
    "user_name = input(\"Enter your name: \")\n",
    "print(\"Hello,\", user_name + \"!\")"
   ]
  },
  {
   "cell_type": "markdown",
   "id": "09e63d33-fe0f-4364-ba2b-8044596f9e9d",
   "metadata": {},
   "source": [
    "## Exercise\n",
    "Now it's your turn! Complete the following exercise:\n",
    "\n",
    "### Exercise: Basic Calculations\n",
    "Create two variables, `num1` and `num2`, and assign them any numerical values.\n",
    "Perform addition, subtraction, multiplication, and division operations using these variables.\n",
    "Print the results for each operation."
   ]
  },
  {
   "cell_type": "code",
   "execution_count": null,
   "id": "e2633d34-662f-4561-9164-e8403fe2f448",
   "metadata": {},
   "outputs": [],
   "source": [
    "# create your variables here"
   ]
  },
  {
   "cell_type": "markdown",
   "id": "7d882308-cfec-47ca-b5ba-f62ec5babd68",
   "metadata": {},
   "source": [
    "## Real-World Example\n",
    "Real-World Example: Greeting Program\n",
    "The code is a simple program that takes user input for their name and greets them, add code to ask the user what their favorite color is and alter the text to include their favorite color. For example: \"Hello, Laura! Your favorite color is pink!\""
   ]
  },
  {
   "cell_type": "code",
   "execution_count": null,
   "id": "68ab6b4c-bd42-4ff4-a55d-7941f74a3b36",
   "metadata": {},
   "outputs": [],
   "source": [
    "# Real-World Example: Greeting Program\n",
    "user_name = input(\"Enter your name: \")\n",
    "# write code here\n",
    "print(\"Hello,\", user_name + \"!\") # alter this line too"
   ]
  },
  {
   "cell_type": "code",
   "execution_count": null,
   "id": "71ddbe8b-9c10-4891-8666-d24723c94934",
   "metadata": {},
   "outputs": [],
   "source": []
  }
 ],
 "metadata": {
  "kernelspec": {
   "display_name": "Python 3 (ipykernel)",
   "language": "python",
   "name": "python3"
  },
  "language_info": {
   "codemirror_mode": {
    "name": "ipython",
    "version": 3
   },
   "file_extension": ".py",
   "mimetype": "text/x-python",
   "name": "python",
   "nbconvert_exporter": "python",
   "pygments_lexer": "ipython3",
   "version": "3.11.5"
  }
 },
 "nbformat": 4,
 "nbformat_minor": 5
}
